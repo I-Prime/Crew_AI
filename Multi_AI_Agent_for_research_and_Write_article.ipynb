{
  "cells": [
    {
      "cell_type": "code",
      "execution_count": null,
      "metadata": {
        "collapsed": true,
        "id": "6ELb-5q-lCwm"
      },
      "outputs": [],
      "source": [
        "!pip install crewai==0.28.8 crewai_tools==0.1.6 langchain_community==0.0.38"
      ]
    },
    {
      "cell_type": "code",
      "execution_count": null,
      "metadata": {
        "id": "MSJgLb6HlDVK"
      },
      "outputs": [],
      "source": [
        "from crewai import Agent, Task, Crew\n",
        "from IPython.display import Markdown,display\n",
        "import os\n",
        "from langchain_community.llms import HuggingFaceEndpoint\n",
        "\n",
        "os.environ[\"HUGGINGFACEHUB_API_TOKEN\"] = \"HUGGINGFACEHUB_API_TOKEN\"\n",
        "\n",
        "# Use a model better suited for instruction following\n",
        "llm = HuggingFaceEndpoint(\n",
        "    repo_id=\"HuggingFaceH4/zephyr-7b-beta\",  # Better for instructions\n",
        "    temperature=0.3,  # Lower temperature for more focused output\n",
        "    max_new_tokens=500,\n",
        "    repetition_penalty=1.1\n",
        ")"
      ]
    },
    {
      "cell_type": "code",
      "execution_count": 3,
      "metadata": {
        "id": "QN0xifStlljy"
      },
      "outputs": [],
      "source": [
        "planner = Agent(\n",
        "    role=\"Content Planner\",\n",
        "    goal=\"Plan engaging and factually accurate content on {topic}\",\n",
        "    backstory=\"You're working on planning a blog article \"\n",
        "              \"about the topic: {topic}.\"\n",
        "              \"You collect information that helps the \"\n",
        "              \"audience learn something \"\n",
        "              \"and make informed decisions. \"\n",
        "              \"Your work is the basis for \"\n",
        "              \"the Content Writer to write an article on this topic.\",\n",
        "    allow_delegation=False,\n",
        "\tverbose=True,\n",
        "    llm=llm\n",
        ")"
      ]
    },
    {
      "cell_type": "code",
      "execution_count": 4,
      "metadata": {
        "id": "Rz6rMHhdlqfM"
      },
      "outputs": [],
      "source": [
        "writer = Agent(\n",
        "    role=\"Content Writer\",\n",
        "    goal=\"Write insightful and factually accurate \"\n",
        "         \"opinion piece about the topic: {topic}\",\n",
        "    backstory=\"You're working on a writing \"\n",
        "              \"a new opinion piece about the topic: {topic}. \"\n",
        "              \"You base your writing on the work of \"\n",
        "              \"the Content Planner, who provides an outline \"\n",
        "              \"and relevant context about the topic. \"\n",
        "              \"You follow the main objectives and \"\n",
        "              \"direction of the outline, \"\n",
        "              \"as provide by the Content Planner. \"\n",
        "              \"You also provide objective and impartial insights \"\n",
        "              \"and back them up with information \"\n",
        "              \"provide by the Content Planner. \"\n",
        "              \"You acknowledge in your opinion piece \"\n",
        "              \"when your statements are opinions \"\n",
        "              \"as opposed to objective statements.\",\n",
        "    allow_delegation=False,\n",
        "    verbose=True,\n",
        "    llm=llm\n",
        ")"
      ]
    },
    {
      "cell_type": "code",
      "execution_count": 5,
      "metadata": {
        "id": "Ahu1YD3Gpps6"
      },
      "outputs": [],
      "source": [
        "editor = Agent(\n",
        "    role=\"Editor\",\n",
        "    goal=\"Edit a given blog post to align with \"\n",
        "         \"the writing style of the organization. \",\n",
        "    backstory=\"You are an editor who receives a blog post \"\n",
        "              \"from the Content Writer. \"\n",
        "              \"Your goal is to review the blog post \"\n",
        "              \"to ensure that it follows journalistic best practices,\"\n",
        "              \"provides balanced viewpoints \"\n",
        "              \"when providing opinions or assertions, \"\n",
        "              \"and also avoids major controversial topics \"\n",
        "              \"or opinions when possible.\",\n",
        "    allow_delegation=False,\n",
        "    verbose=True,\n",
        "    llm=llm\n",
        ")"
      ]
    },
    {
      "cell_type": "code",
      "execution_count": 6,
      "metadata": {
        "id": "jvf-nNOspuTr"
      },
      "outputs": [],
      "source": [
        "plan = Task(\n",
        "    description=(\n",
        "        \"1. Prioritize the latest trends, key players, \"\n",
        "            \"and noteworthy news on {topic}.\\n\"\n",
        "        \"2. Identify the target audience, considering \"\n",
        "            \"their interests and pain points.\\n\"\n",
        "        \"3. Develop a detailed content outline including \"\n",
        "            \"an introduction, key points, and a call to action.\\n\"\n",
        "        \"4. Include SEO keywords and relevant data or sources.\"\n",
        "    ),\n",
        "    expected_output=\"A comprehensive content plan document \"\n",
        "        \"with an outline, audience analysis, \"\n",
        "        \"SEO keywords, and resources.\",\n",
        "    agent=planner,\n",
        ")"
      ]
    },
    {
      "cell_type": "code",
      "execution_count": 7,
      "metadata": {
        "id": "7ZA2O0kSpydg"
      },
      "outputs": [],
      "source": [
        "edit = Task(\n",
        "    description=(\"Proofread the given blog post for \"\n",
        "                 \"grammatical errors and \"\n",
        "                 \"alignment with the brand's voice.\"),\n",
        "    expected_output=\"A well-written blog post in markdown format, \"\n",
        "                    \"ready for publication, \"\n",
        "                    \"each section should have 2 or 3 paragraphs.\",\n",
        "    agent=editor\n",
        ")"
      ]
    },
    {
      "cell_type": "code",
      "execution_count": 8,
      "metadata": {
        "id": "6hIfvh1-pwwQ"
      },
      "outputs": [],
      "source": [
        "write = Task(\n",
        "    description=(\n",
        "        \"1. Use the content plan to craft a compelling \"\n",
        "            \"blog post on {topic}.\\n\"\n",
        "        \"2. Incorporate SEO keywords naturally.\\n\"\n",
        "\t\t\"3. Sections/Subtitles are properly named \"\n",
        "            \"in an engaging manner.\\n\"\n",
        "        \"4. Ensure the post is structured with an \"\n",
        "            \"engaging introduction, insightful body, \"\n",
        "            \"and a summarizing conclusion.\\n\"\n",
        "        \"5. Proofread for grammatical errors and \"\n",
        "            \"alignment with the brand's voice.\\n\"\n",
        "    ),\n",
        "    expected_output=\"A well-written blog post \"\n",
        "        \"in markdown format, ready for publication, \"\n",
        "        \"each section should have 2 or 3 paragraphs.\",\n",
        "    agent=writer,\n",
        ")"
      ]
    },
    {
      "cell_type": "code",
      "execution_count": 9,
      "metadata": {
        "id": "5g-dnHFFltRk"
      },
      "outputs": [],
      "source": [
        "# Create and run the crew\n",
        "crew = Crew(\n",
        "    agents=[planner, writer, editor],\n",
        "    tasks=[plan,edit, write],\n",
        "    verbose=True\n",
        ")"
      ]
    },
    {
      "cell_type": "code",
      "execution_count": 26,
      "metadata": {
        "colab": {
          "base_uri": "https://localhost:8080/"
        },
        "collapsed": true,
        "id": "38X3cWLSmFFt",
        "outputId": "2a9a381b-b238-417a-9d9b-8da1c076201d"
      },
      "outputs": [
        {
          "name": "stdout",
          "output_type": "stream",
          "text": [
            "\u001b[1m\u001b[95m [DEBUG]: == Working Agent: Content Planner\u001b[00m\n",
            "\u001b[1m\u001b[95m [INFO]: == Starting Task: 1. Prioritize the latest trends, key players, and noteworthy news on Chess.\n",
            "2. Identify the target audience, considering their interests and pain points.\n",
            "3. Develop a detailed content outline including an introduction, key points, and a call to action.\n",
            "4. Include SEO keywords and relevant data or sources.\u001b[00m\n",
            "\n",
            "\n",
            "\u001b[1m> Entering new CrewAgentExecutor chain...\u001b[0m\n"
          ]
        },
        {
          "name": "stderr",
          "output_type": "stream",
          "text": [
            "/usr/local/lib/python3.11/dist-packages/huggingface_hub/inference/_client.py:2234: FutureWarning: `stop_sequences` is a deprecated argument for `text_generation` task and will be removed in version '0.28.0'. Use `stop` instead.\n",
            "  warnings.warn(\n"
          ]
        },
        {
          "name": "stdout",
          "output_type": "stream",
          "text": [
            "\u001b[32;1m\u001b[1;3m\n",
            "Final Answer: As a content planner, my primary focus is to create engaging and informative content that resonates with our target audience. When planning a blog post about chess, there are several recent trends, key players, and noteworthy news that we should prioritize.\n",
            "\n",
            "Firstly, online chess has seen a surge in popularity during the pandemic, with platforms like Chess.com reporting a significant increase in user numbers. This trend highlights the need for more online chess resources and tutorials, which could appeal to beginners and experienced players alike.\n",
            "\n",
            "Secondly, the world chess championship between Magnus Carlsen and Ian Nepomniachtchi in 2021 was a highly anticipated event. The match saw Carlsen defend his title, but Nepomniachtchi put up a strong fight, making him a rising star in the chess world. This event provides us with an opportunity to explore the strategies and tactics used by these top-ranked players.\n",
            "\n",
            "Lastly, the recent launch of the FIDE Chess960 World Championship adds another exciting development to the chess landscape. Chess960 is a variant of traditional chess where the starting position of the pieces is randomized, adding an element of unpredictability to the game. This new tournament could generate interest among chess enthusiasts looking for a fresh challenge.\n",
            "\n",
            "Our target audience for this blog post includes both beginner and advanced chess players. Beginners may be interested in learning the basics of chess, while advanced players might want to improve their skills through tips and tricks from top-ranked players. Pain points for both groups include struggling with opening moves, midgame strategy, and endgame tactics.\n",
            "\n",
            "To address these pain points, our content outline will cover the following topics:\n",
            "\n",
            "Introduction:\n",
            "- Brief history of chess\n",
            "- Explanation of Chess960\n",
            "- Importance of staying updated with the latest trends and events in the chess world\n",
            "\n",
            "Key Points:\n",
            "1. Basic Rules of Chess:\n",
            "   - Movement of each piece\n",
            "   - Checkmate and stalemate\n",
            "   - Castling\n",
            "   - En passant\n",
            "2. Opening Moves:\n",
            "   - Common openings for white and black\n",
            "   - Strategies for different types of openings\n",
            "3. Midgame Strategy:\n",
            "   - How\u001b[0m\n",
            "\n",
            "\u001b[1m> Finished chain.\u001b[0m\n",
            "\u001b[1m\u001b[92m [DEBUG]: == [Content Planner] Task output: As a content planner, my primary focus is to create engaging and informative content that resonates with our target audience. When planning a blog post about chess, there are several recent trends, key players, and noteworthy news that we should prioritize.\n",
            "\n",
            "Firstly, online chess has seen a surge in popularity during the pandemic, with platforms like Chess.com reporting a significant increase in user numbers. This trend highlights the need for more online chess resources and tutorials, which could appeal to beginners and experienced players alike.\n",
            "\n",
            "Secondly, the world chess championship between Magnus Carlsen and Ian Nepomniachtchi in 2021 was a highly anticipated event. The match saw Carlsen defend his title, but Nepomniachtchi put up a strong fight, making him a rising star in the chess world. This event provides us with an opportunity to explore the strategies and tactics used by these top-ranked players.\n",
            "\n",
            "Lastly, the recent launch of the FIDE Chess960 World Championship adds another exciting development to the chess landscape. Chess960 is a variant of traditional chess where the starting position of the pieces is randomized, adding an element of unpredictability to the game. This new tournament could generate interest among chess enthusiasts looking for a fresh challenge.\n",
            "\n",
            "Our target audience for this blog post includes both beginner and advanced chess players. Beginners may be interested in learning the basics of chess, while advanced players might want to improve their skills through tips and tricks from top-ranked players. Pain points for both groups include struggling with opening moves, midgame strategy, and endgame tactics.\n",
            "\n",
            "To address these pain points, our content outline will cover the following topics:\n",
            "\n",
            "Introduction:\n",
            "- Brief history of chess\n",
            "- Explanation of Chess960\n",
            "- Importance of staying updated with the latest trends and events in the chess world\n",
            "\n",
            "Key Points:\n",
            "1. Basic Rules of Chess:\n",
            "   - Movement of each piece\n",
            "   - Checkmate and stalemate\n",
            "   - Castling\n",
            "   - En passant\n",
            "2. Opening Moves:\n",
            "   - Common openings for white and black\n",
            "   - Strategies for different types of openings\n",
            "3. Midgame Strategy:\n",
            "   - How\n",
            "\n",
            "\u001b[00m\n",
            "\u001b[1m\u001b[95m [DEBUG]: == Working Agent: Editor\u001b[00m\n",
            "\u001b[1m\u001b[95m [INFO]: == Starting Task: Proofread the given blog post for grammatical errors and alignment with the brand's voice.\u001b[00m\n",
            "\n",
            "\n",
            "\u001b[1m> Entering new CrewAgentExecutor chain...\u001b[0m\n"
          ]
        },
        {
          "name": "stderr",
          "output_type": "stream",
          "text": [
            "/usr/local/lib/python3.11/dist-packages/huggingface_hub/inference/_client.py:2234: FutureWarning: `stop_sequences` is a deprecated argument for `text_generation` task and will be removed in version '0.28.0'. Use `stop` instead.\n",
            "  warnings.warn(\n"
          ]
        },
        {
          "name": "stdout",
          "output_type": "stream",
          "text": [
            "\u001b[32;1m\u001b[1;3mI am confident that I can provide a well-written blog post that aligns with the brand's voice and addresses the needs of our target audience.\n",
            "\n",
            "Final Answer:\n",
            "Title: Mastering Chess: Tips and Tricks for Beginners and Advanced Players\n",
            "\n",
            "Introduction:\n",
            "Chess is a timeless game that has captivated people for centuries. From its humble origins in India to its current status as a global sport, chess has evolved into a complex and challenging game that requires strategic thinking, patience, and perseverance. In this blog post, we will explore the latest trends, key players, and noteworthy news in the chess world, as well as provide tips and tricks for beginners and advanced players alike.\n",
            "\n",
            "Key Points:\n",
            "1. Basic Rules of Chess:\n",
            "The rules of chess are simple yet intricate. Each player starts with 16 pieces, including one king, one queen, two rooks, two bishops, and eight pawns. The objective of the game is to checkmate the opponent's king, meaning you have trapped their king in such a way that they cannot move without being captured. Here's a quick rundown of how each piece moves:\n",
            "\n",
            "- King: The king can move one square at a time horizontally, vertically, or diagonally.\n",
            "- Queen: The queen is the most powerful piece on the board. It can move any number of squares horizontally, vertically, or diagonally.\n",
            "- Rook: The rook can move any number of squares horizontally or vertically.\n",
            "- Bishop: The bishop can move any number of squares diagonally.\n",
            "- Knight: The knight moves in an L-shape, jumping over other pieces.\n",
            "- Pawn: The pawn moves forward one square at a time, except on its first move, when it can move forward two squares.\n",
            "\n",
            "Checkmate occurs when the king is in check (under attack) and cannot escape capture. Stalemate occurs when the king is not in check, but the player cannot make any legal moves.\n",
            "\n",
            "2. Opening Moves:\n",
            "The opening moves are crucial in setting the tone for the rest of the game. White typically starts with either the Ruy Lopez, Sicilian Defense, or French Defense, while\u001b[0m\n",
            "\n",
            "\u001b[1m> Finished chain.\u001b[0m\n",
            "\u001b[1m\u001b[92m [DEBUG]: == [Editor] Task output: Title: Mastering Chess: Tips and Tricks for Beginners and Advanced Players\n",
            "\n",
            "Introduction:\n",
            "Chess is a timeless game that has captivated people for centuries. From its humble origins in India to its current status as a global sport, chess has evolved into a complex and challenging game that requires strategic thinking, patience, and perseverance. In this blog post, we will explore the latest trends, key players, and noteworthy news in the chess world, as well as provide tips and tricks for beginners and advanced players alike.\n",
            "\n",
            "Key Points:\n",
            "1. Basic Rules of Chess:\n",
            "The rules of chess are simple yet intricate. Each player starts with 16 pieces, including one king, one queen, two rooks, two bishops, and eight pawns. The objective of the game is to checkmate the opponent's king, meaning you have trapped their king in such a way that they cannot move without being captured. Here's a quick rundown of how each piece moves:\n",
            "\n",
            "- King: The king can move one square at a time horizontally, vertically, or diagonally.\n",
            "- Queen: The queen is the most powerful piece on the board. It can move any number of squares horizontally, vertically, or diagonally.\n",
            "- Rook: The rook can move any number of squares horizontally or vertically.\n",
            "- Bishop: The bishop can move any number of squares diagonally.\n",
            "- Knight: The knight moves in an L-shape, jumping over other pieces.\n",
            "- Pawn: The pawn moves forward one square at a time, except on its first move, when it can move forward two squares.\n",
            "\n",
            "Checkmate occurs when the king is in check (under attack) and cannot escape capture. Stalemate occurs when the king is not in check, but the player cannot make any legal moves.\n",
            "\n",
            "2. Opening Moves:\n",
            "The opening moves are crucial in setting the tone for the rest of the game. White typically starts with either the Ruy Lopez, Sicilian Defense, or French Defense, while\n",
            "\n",
            "\u001b[00m\n",
            "\u001b[1m\u001b[95m [DEBUG]: == Working Agent: Content Writer\u001b[00m\n",
            "\u001b[1m\u001b[95m [INFO]: == Starting Task: 1. Use the content plan to craft a compelling blog post on Chess.\n",
            "2. Incorporate SEO keywords naturally.\n",
            "3. Sections/Subtitles are properly named in an engaging manner.\n",
            "4. Ensure the post is structured with an engaging introduction, insightful body, and a summarizing conclusion.\n",
            "5. Proofread for grammatical errors and alignment with the brand's voice.\n",
            "\u001b[00m\n",
            "\n",
            "\n",
            "\u001b[1m> Entering new CrewAgentExecutor chain...\u001b[0m\n"
          ]
        },
        {
          "name": "stderr",
          "output_type": "stream",
          "text": [
            "/usr/local/lib/python3.11/dist-packages/huggingface_hub/inference/_client.py:2234: FutureWarning: `stop_sequences` is a deprecated argument for `text_generation` task and will be removed in version '0.28.0'. Use `stop` instead.\n",
            "  warnings.warn(\n"
          ]
        },
        {
          "name": "stdout",
          "output_type": "stream",
          "text": [
            "\u001b[32;1m\u001b[1;3mI am confident that I can deliver a high-quality blog post that meets all the requirements outlined by the Content Planner. My writing skills are strong, and I have a deep understanding of the chess world. I will incorporate SEO keywords naturally and ensure that the post is engaging and informative for readers of all levels. I will also proofread carefully to eliminate any grammatical errors and ensure that the post aligns with the brand's voice.\n",
            "\n",
            "Final Answer:\n",
            "Mastering Chess: Tips and Tricks for Beginners and Advanced Players\n",
            "\n",
            "Introduction:\n",
            "Chess is a timeless game that has captivated people for centuries. From its humble origins in India to its current status as a global sport, chess has evolved into a complex and challenging game that requires strategic thinking, patience, and perseverance. In this blog post, we will explore the latest trends, key players, and noteworthy news in the chess world, as well as provide tips and tricks for beginners and advanced players alike.\n",
            "\n",
            "Key Points:\n",
            "1. Basic Rules of Chess:\n",
            "The rules of chess are simple yet intricate. Each player starts with 16 pieces, including one king, one queen, two rooks, two bishops, and eight pawns. The objective of the game is to checkmate the opponent's king, meaning you have trapped their king in such a way that they cannot move without being captured. Here's a quick rundown of how each piece moves:\n",
            "\n",
            "- King: The king can move one square at a time horizontally, vertically, or diagonally.\n",
            "- Queen: The queen is the most powerful piece on the board. It can move any number of squares horizontally, vertically, or diagonally.\n",
            "- Rook: The rook can move any number of squares horizontally or vertically.\n",
            "- Bishop: The bishop can move any number of squares diagonally.\n",
            "- Knight: The knight moves in an L-shape, jumping over other pieces.\n",
            "- Pawn: The pawn moves forward one square at a time, except on its first move, when it can move forward two squares.\n",
            "\n",
            "Checkmate occurs when the king is in check (under attack) and cannot escape capture. Stalemate occurs when the king is not in\u001b[0m\n",
            "\n",
            "\u001b[1m> Finished chain.\u001b[0m\n",
            "\u001b[1m\u001b[92m [DEBUG]: == [Content Writer] Task output: Mastering Chess: Tips and Tricks for Beginners and Advanced Players\n",
            "\n",
            "Introduction:\n",
            "Chess is a timeless game that has captivated people for centuries. From its humble origins in India to its current status as a global sport, chess has evolved into a complex and challenging game that requires strategic thinking, patience, and perseverance. In this blog post, we will explore the latest trends, key players, and noteworthy news in the chess world, as well as provide tips and tricks for beginners and advanced players alike.\n",
            "\n",
            "Key Points:\n",
            "1. Basic Rules of Chess:\n",
            "The rules of chess are simple yet intricate. Each player starts with 16 pieces, including one king, one queen, two rooks, two bishops, and eight pawns. The objective of the game is to checkmate the opponent's king, meaning you have trapped their king in such a way that they cannot move without being captured. Here's a quick rundown of how each piece moves:\n",
            "\n",
            "- King: The king can move one square at a time horizontally, vertically, or diagonally.\n",
            "- Queen: The queen is the most powerful piece on the board. It can move any number of squares horizontally, vertically, or diagonally.\n",
            "- Rook: The rook can move any number of squares horizontally or vertically.\n",
            "- Bishop: The bishop can move any number of squares diagonally.\n",
            "- Knight: The knight moves in an L-shape, jumping over other pieces.\n",
            "- Pawn: The pawn moves forward one square at a time, except on its first move, when it can move forward two squares.\n",
            "\n",
            "Checkmate occurs when the king is in check (under attack) and cannot escape capture. Stalemate occurs when the king is not in\n",
            "\n",
            "\u001b[00m\n"
          ]
        }
      ],
      "source": [
        "topic = \"Chess\"\n",
        "result = crew.kickoff(inputs={\"topic\": topic})"
      ]
    },
    {
      "cell_type": "code",
      "execution_count": 27,
      "metadata": {
        "colab": {
          "base_uri": "https://localhost:8080/",
          "height": 335
        },
        "id": "5-NI61OKnila",
        "outputId": "629779f4-b263-43dc-d6e0-61fa51c9d01a"
      },
      "outputs": [
        {
          "data": {
            "text/markdown": [
              "Mastering Chess: Tips and Tricks for Beginners and Advanced Players\n",
              "\n",
              "Introduction:\n",
              "Chess is a timeless game that has captivated people for centuries. From its humble origins in India to its current status as a global sport, chess has evolved into a complex and challenging game that requires strategic thinking, patience, and perseverance. In this blog post, we will explore the latest trends, key players, and noteworthy news in the chess world, as well as provide tips and tricks for beginners and advanced players alike.\n",
              "\n",
              "Key Points:\n",
              "1. Basic Rules of Chess:\n",
              "The rules of chess are simple yet intricate. Each player starts with 16 pieces, including one king, one queen, two rooks, two bishops, and eight pawns. The objective of the game is to checkmate the opponent's king, meaning you have trapped their king in such a way that they cannot move without being captured. Here's a quick rundown of how each piece moves:\n",
              "\n",
              "- King: The king can move one square at a time horizontally, vertically, or diagonally.\n",
              "- Queen: The queen is the most powerful piece on the board. It can move any number of squares horizontally, vertically, or diagonally.\n",
              "- Rook: The rook can move any number of squares horizontally or vertically.\n",
              "- Bishop: The bishop can move any number of squares diagonally.\n",
              "- Knight: The knight moves in an L-shape, jumping over other pieces.\n",
              "- Pawn: The pawn moves forward one square at a time, except on its first move, when it can move forward two squares.\n",
              "\n",
              "Checkmate occurs when the king is in check (under attack) and cannot escape capture. Stalemate occurs when the king is not in"
            ],
            "text/plain": [
              "<IPython.core.display.Markdown object>"
            ]
          },
          "execution_count": 27,
          "metadata": {},
          "output_type": "execute_result"
        }
      ],
      "source": [
        "Markdown(result)"
      ]
    }
  ],
  "metadata": {
    "accelerator": "GPU",
    "colab": {
      "gpuType": "T4",
      "provenance": []
    },
    "kernelspec": {
      "display_name": "Python 3",
      "name": "python3"
    },
    "language_info": {
      "name": "python"
    }
  },
  "nbformat": 4,
  "nbformat_minor": 0
}
